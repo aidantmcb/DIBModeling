{
 "cells": [
  {
   "cell_type": "code",
   "execution_count": 1,
   "metadata": {},
   "outputs": [],
   "source": [
    "import numpy as np\n",
    "\n",
    "import astropy.units as u  \n",
    "import astropy.constants as c\n",
    "from astropy.coordinates import SkyCoord\n",
    "from astropy.io import fits\n",
    "\n",
    "import matplotlib.pyplot as plt\n",
    "import matplotlib \n",
    "\n",
    "from itertools import product\n",
    "\n",
    "import sys\n",
    "import os\n",
    "import tqdm"
   ]
  },
  {
   "cell_type": "code",
   "execution_count": 4,
   "metadata": {},
   "outputs": [],
   "source": [
    "COMap = fits.open('DHT21_Taurus_interp.fits')\n",
    "header = COMap[0].header\n",
    "data = COMap[0].data"
   ]
  },
  {
   "cell_type": "code",
   "execution_count": 6,
   "metadata": {},
   "outputs": [
    {
     "data": {
      "text/plain": [
       "SIMPLE  =                    T  / Standard FITS format                          \n",
       "BITPIX  =                  -32 / Bits per pixel                                 \n",
       "NAXIS   =                    3  / Number of axes                                \n",
       "NAXIS1  =                   81  / Number pixels on axis 1                       \n",
       "NAXIS2  =                  307  / Number pixels on axis 2                       \n",
       "NAXIS3  =                  213  / Number pixels on axis 3                       \n",
       "CTYPE1  = 'VELO-LSR'            / axis 1 coord type                             \n",
       "CRVAL1  =        -2.178010E+01  / coord value at CRPIX1                         \n",
       "CDELT1  =         6.501900E-01  / linear pixel spacing axis 1                   \n",
       "CRPIX1  =             1.000000  / ref pixel for axis 1                          \n",
       "CTYPE2  = 'GLON-CAR'            / axis 2 coord type                             \n",
       "CRVAL2  =         1.912500E+02  / coord value at CRPIX2                         \n",
       "CDELT2  =        -1.250000E-01  / linear pixel spacing axis 2                   \n",
       "CRPIX2  =             1.000000  / ref pixel for axis 2                          \n",
       "CTYPE3  = 'GLAT-CAR'            / axis 3 coord type                             \n",
       "CRVAL3  =         0.000000E+00  / coord value at CRPIX3                         \n",
       "CDELT3  =         1.250000E-01  / linear pixel spacing axis 3                   \n",
       "CRPIX3  =           229.000000  / ref pixel for axis 3                          \n",
       "DATAMIN =        -2.200000E+00  / minimum real value                            \n",
       "DATAMAX =         1.480000E+01  / maximum real value                            \n",
       "BUNIT   = 'K'                   / main beam brightness temp                     \n",
       "COMMENT Spectra linearly interp'ed for <= 2 missing channels                    \n",
       "COMMENT lb image slices interp'ed for single missing pts                        \n",
       "COMMENT ----------------------------------------                                \n",
       "COMMENT |   Survey No. 21 from Table 1 of      |                                \n",
       "COMMENT |  Dame, Hartmann, & Thaddeus (2001)   |                                \n",
       "COMMENT |           ApJ, 547, 792              |                                \n",
       "COMMENT ----------------------------------------                                \n",
       "COMMENT Axis units: v(km/s) x LII(deg) x BII(deg)                               \n",
       "COMMENT Contact: Tom Dame (tdame@cfa.harvard.edu)                               \n",
       "COMMENT Created: Thu Jun 24 11:29:59 2010                                       \n",
       "                                                                                \n",
       "                                                                                "
      ]
     },
     "execution_count": 6,
     "metadata": {},
     "output_type": "execute_result"
    }
   ],
   "source": [
    "header"
   ]
  },
  {
   "cell_type": "code",
   "execution_count": 22,
   "metadata": {},
   "outputs": [],
   "source": [
    "velo_lsr = np.linspace(header['CRVAL1'], header['CRVAL1'] + header['NAXIS1'] * header['CDELT1'], header['NAXIS1'])\n",
    "glon = np.linspace(header['CRVAL2'], header['CRVAL2'] + header['NAXIS2'] * header['CDELT2'], header['NAXIS2'])\n",
    "off = - header['CDELT3'] * header['CRPIX3']\n",
    "glat = glon = np.linspace(header['CRVAL3'] + off, header['CRVAL3'] + header['NAXIS3'] * header['CDELT3'] + off , header['NAXIS3'])"
   ]
  },
  {
   "cell_type": "code",
   "execution_count": 35,
   "metadata": {},
   "outputs": [],
   "source": [
    "grid = np.meshgrid(glon, glat)\n"
   ]
  }
 ],
 "metadata": {
  "kernelspec": {
   "display_name": "Python 3 (ipykernel)",
   "language": "python",
   "name": "python3"
  },
  "language_info": {
   "codemirror_mode": {
    "name": "ipython",
    "version": 3
   },
   "file_extension": ".py",
   "mimetype": "text/x-python",
   "name": "python",
   "nbconvert_exporter": "python",
   "pygments_lexer": "ipython3",
   "version": "3.10.3"
  },
  "vscode": {
   "interpreter": {
    "hash": "3fe7030614cd981c6ddd811e445ccfb2937042b5ffe8d39b21f37cf8a72bf19d"
   }
  }
 },
 "nbformat": 4,
 "nbformat_minor": 2
}
